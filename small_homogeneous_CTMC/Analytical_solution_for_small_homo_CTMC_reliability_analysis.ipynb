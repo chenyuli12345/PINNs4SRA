{
 "cells": [
  {
   "cell_type": "markdown",
   "id": "0258e972",
   "metadata": {},
   "source": [
    "### Eigenvectors-based method"
   ]
  },
  {
   "cell_type": "code",
   "execution_count": 1,
   "id": "19a5486a",
   "metadata": {},
   "outputs": [],
   "source": [
    "import numpy as np\n",
    "import pandas as pd\n",
    "import seaborn as sns\n",
    "import matplotlib.pyplot as plt"
   ]
  },
  {
   "cell_type": "code",
   "execution_count": 2,
   "id": "fab6637b",
   "metadata": {},
   "outputs": [],
   "source": [
    "sns.set(font_scale=1.6)"
   ]
  },
  {
   "cell_type": "code",
   "execution_count": 3,
   "id": "12f302eb",
   "metadata": {},
   "outputs": [],
   "source": [
    "x_0 = np.zeros(3)\n",
    "x_0[0] = 1"
   ]
  },
  {
   "cell_type": "code",
   "execution_count": 4,
   "id": "a2fa429a",
   "metadata": {},
   "outputs": [],
   "source": [
    "lambda_ = 7.26*10**-5\n",
    "gamma = 2.8 * 10**-5"
   ]
  },
  {
   "cell_type": "code",
   "execution_count": 5,
   "id": "0a397ffb",
   "metadata": {},
   "outputs": [
    {
     "data": {
      "text/plain": [
       "array([[-1.286e-04,  5.600e-05,  7.260e-05],\n",
       "       [ 0.000e+00, -1.006e-04,  1.006e-04],\n",
       "       [ 0.000e+00,  0.000e+00,  0.000e+00]])"
      ]
     },
     "execution_count": 5,
     "metadata": {},
     "output_type": "execute_result"
    }
   ],
   "source": [
    "A = np.zeros((3, 3))\n",
    "\n",
    "A[0, 0] = -2*gamma - lambda_\n",
    "A[0, 1] = 2*gamma\n",
    "A[0, 2] = lambda_\n",
    "A[1, 1] = -1 *(gamma+lambda_)\n",
    "A[1, 2] = gamma + lambda_\n",
    "A"
   ]
  },
  {
   "cell_type": "code",
   "execution_count": 6,
   "id": "3be611be",
   "metadata": {},
   "outputs": [],
   "source": [
    "def get_e_At(t, A):\n",
    "    w, S = np.linalg.eig(A)\n",
    "    S_inv = np.linalg.inv(S)\n",
    "    \n",
    "    exp_t = np.exp(t*w)\n",
    "    M = np.diag(exp_t)\n",
    "    \n",
    "    exp_At = np.dot(np.dot(S, M), S_inv)\n",
    "    \n",
    "    return exp_At"
   ]
  },
  {
   "cell_type": "code",
   "execution_count": 7,
   "id": "c1ae40f1",
   "metadata": {},
   "outputs": [],
   "source": [
    "lb  = 0.0\n",
    "ub = 80000\n",
    "n_star = 5000+1\n",
    "x_star = np.linspace(lb, ub, n_star)[1:]"
   ]
  },
  {
   "cell_type": "code",
   "execution_count": 8,
   "id": "a2b80b15",
   "metadata": {},
   "outputs": [
    {
     "name": "stdout",
     "output_type": "stream",
     "text": [
      "Wall time: 190 ms\n"
     ]
    }
   ],
   "source": [
    "%%time \n",
    "\n",
    "val = []\n",
    "for t in x_star:\n",
    "    e_At = get_e_At(t, A)\n",
    "    MSS_reliability = np.dot(x_0, e_At)\n",
    "    \n",
    "    val.append(MSS_reliability)"
   ]
  },
  {
   "cell_type": "code",
   "execution_count": 9,
   "id": "776b26d9",
   "metadata": {},
   "outputs": [
    {
     "data": {
      "text/html": [
       "<div>\n",
       "<style scoped>\n",
       "    .dataframe tbody tr th:only-of-type {\n",
       "        vertical-align: middle;\n",
       "    }\n",
       "\n",
       "    .dataframe tbody tr th {\n",
       "        vertical-align: top;\n",
       "    }\n",
       "\n",
       "    .dataframe thead th {\n",
       "        text-align: right;\n",
       "    }\n",
       "</style>\n",
       "<table border=\"1\" class=\"dataframe\">\n",
       "  <thead>\n",
       "    <tr style=\"text-align: right;\">\n",
       "      <th></th>\n",
       "      <th>state_0</th>\n",
       "      <th>state_1</th>\n",
       "      <th>state_2</th>\n",
       "    </tr>\n",
       "  </thead>\n",
       "  <tbody>\n",
       "    <tr>\n",
       "      <th>0</th>\n",
       "      <td>0.997945</td>\n",
       "      <td>0.000894</td>\n",
       "      <td>0.001161</td>\n",
       "    </tr>\n",
       "    <tr>\n",
       "      <th>1</th>\n",
       "      <td>0.995893</td>\n",
       "      <td>0.001785</td>\n",
       "      <td>0.002321</td>\n",
       "    </tr>\n",
       "    <tr>\n",
       "      <th>2</th>\n",
       "      <td>0.993846</td>\n",
       "      <td>0.002673</td>\n",
       "      <td>0.003481</td>\n",
       "    </tr>\n",
       "    <tr>\n",
       "      <th>3</th>\n",
       "      <td>0.991803</td>\n",
       "      <td>0.003558</td>\n",
       "      <td>0.004639</td>\n",
       "    </tr>\n",
       "    <tr>\n",
       "      <th>4</th>\n",
       "      <td>0.989765</td>\n",
       "      <td>0.004439</td>\n",
       "      <td>0.005796</td>\n",
       "    </tr>\n",
       "  </tbody>\n",
       "</table>\n",
       "</div>"
      ],
      "text/plain": [
       "    state_0   state_1   state_2\n",
       "0  0.997945  0.000894  0.001161\n",
       "1  0.995893  0.001785  0.002321\n",
       "2  0.993846  0.002673  0.003481\n",
       "3  0.991803  0.003558  0.004639\n",
       "4  0.989765  0.004439  0.005796"
      ]
     },
     "execution_count": 9,
     "metadata": {},
     "output_type": "execute_result"
    }
   ],
   "source": [
    "exact_solution_eigen_vectors = np.array(val)\n",
    "exact_solution_eigen_vectors_df = pd.DataFrame(val, columns = ['state_0', 'state_1', 'state_2'])\n",
    "exact_solution_eigen_vectors_df.to_csv(\"analytical_solution_by_eigenvector_method.csv\", index=False)\n",
    "exact_solution_eigen_vectors_df.head()"
   ]
  },
  {
   "cell_type": "code",
   "execution_count": 10,
   "id": "248c8324",
   "metadata": {},
   "outputs": [
    {
     "data": {
      "text/plain": [
       "Text(0, 0.5, 'Probability')"
      ]
     },
     "execution_count": 10,
     "metadata": {},
     "output_type": "execute_result"
    },
    {
     "data": {
      "image/png": "[encoded data removed]",
      "text/plain": [
       "<Figure size 576x360 with 1 Axes>"
      ]
     },
     "metadata": {},
     "output_type": "display_data"
    }
   ],
   "source": [
    "plt.figure(figsize=(8, 5))\n",
    "sns.lineplot(x = x_star.flatten(), y = exact_solution_eigen_vectors[:, 0], label = 'State 0', linewidth = 5, color = 'green', \n",
    "             linestyle='dotted')\n",
    "sns.lineplot(x = x_star.flatten(), y = exact_solution_eigen_vectors[:, 1], label = 'State 1', linewidth = 5, color = 'blue', \n",
    "             linestyle='dotted')\n",
    "sns.lineplot(x = x_star.flatten(), y = exact_solution_eigen_vectors[:, 2], label = 'State 2', linewidth = 5, color = 'red', \n",
    "             linestyle='dotted')\n",
    "\n",
    "plt.yscale('log')\n",
    "plt.xlabel(\"Time (hours)\", fontdict=dict(weight='bold'), fontsize=16)\n",
    "plt.ylabel(\"Probability\", fontdict=dict(weight='bold'), fontsize=16)"
   ]
  },
  {
   "cell_type": "markdown",
   "id": "98500a17",
   "metadata": {},
   "source": [
    "### Laplace transform-based method"
   ]
  },
  {
   "cell_type": "code",
   "execution_count": 24,
   "id": "77f5f936",
   "metadata": {},
   "outputs": [],
   "source": [
    "from sympy import *\n",
    "from sympy.matrices import Matrix, eye, zeros, ones, diag\n",
    "import numpy as np\n",
    "import pandas as pd\n",
    "import matplotlib.pyplot as plt\n",
    "import seaborn as sns"
   ]
  },
  {
   "cell_type": "code",
   "execution_count": 25,
   "id": "80c0400d",
   "metadata": {},
   "outputs": [],
   "source": [
    "gamma, lambda_ = symbols('gamma, lambda_')"
   ]
  },
  {
   "cell_type": "code",
   "execution_count": 26,
   "id": "cbdd92d1",
   "metadata": {},
   "outputs": [
    {
     "data": {
      "text/latex": [
       "$\\displaystyle \\left[\\begin{matrix}- 2 \\gamma - \\lambda_{} & 2 \\gamma & \\lambda_{}\\\\0 & - \\gamma - \\lambda_{} & \\gamma + \\lambda_{}\\\\0 & 0 & 0\\end{matrix}\\right]$"
      ],
      "text/plain": [
       "Matrix([\n",
       "[-2*gamma - lambda_,          2*gamma,         lambda_],\n",
       "[                 0, -gamma - lambda_, gamma + lambda_],\n",
       "[                 0,                0,               0]])"
      ]
     },
     "execution_count": 26,
     "metadata": {},
     "output_type": "execute_result"
    }
   ],
   "source": [
    "A = Matrix([[-2*gamma - lambda_, 2*gamma, lambda_], [0, -1 *(gamma+lambda_), gamma+lambda_], [0, 0, 0]]);\n",
    "A"
   ]
  },
  {
   "cell_type": "code",
   "execution_count": 27,
   "id": "870be383",
   "metadata": {},
   "outputs": [],
   "source": [
    "n = A.shape[0]"
   ]
  },
  {
   "cell_type": "code",
   "execution_count": 28,
   "id": "c59d6be6",
   "metadata": {},
   "outputs": [
    {
     "data": {
      "text/latex": [
       "$\\displaystyle s$"
      ],
      "text/plain": [
       "s"
      ]
     },
     "execution_count": 28,
     "metadata": {},
     "output_type": "execute_result"
    }
   ],
   "source": [
    "s = symbols('s')\n",
    "t = symbols('t', positive=True)\n",
    "s"
   ]
  },
  {
   "cell_type": "code",
   "execution_count": 29,
   "id": "3dee5c44",
   "metadata": {},
   "outputs": [
    {
     "data": {
      "text/latex": [
       "$\\displaystyle \\left[\\begin{matrix}1 & 0 & 0\\\\0 & 1 & 0\\\\0 & 0 & 1\\end{matrix}\\right]$"
      ],
      "text/plain": [
       "Matrix([\n",
       "[1, 0, 0],\n",
       "[0, 1, 0],\n",
       "[0, 0, 1]])"
      ]
     },
     "execution_count": 29,
     "metadata": {},
     "output_type": "execute_result"
    }
   ],
   "source": [
    "I = eye(n)\n",
    "I"
   ]
  },
  {
   "cell_type": "code",
   "execution_count": 30,
   "id": "b85ba7f3",
   "metadata": {},
   "outputs": [
    {
     "name": "stdout",
     "output_type": "stream",
     "text": [
      "Wall time: 211 ms\n"
     ]
    },
    {
     "data": {
      "text/latex": [
       "$\\displaystyle \\left[\\begin{matrix}\\frac{1}{2 \\gamma + \\lambda_{} + s} & \\frac{2 \\gamma}{2 \\gamma^{2} + 3 \\gamma \\lambda_{} + 3 \\gamma s + \\lambda_{}^{2} + 2 \\lambda_{} s + s^{2}} & \\frac{2 \\gamma^{2} + 3 \\gamma \\lambda_{} + \\lambda_{}^{2} + \\lambda_{} s}{s \\left(2 \\gamma^{2} + 3 \\gamma \\lambda_{} + 3 \\gamma s + \\lambda_{}^{2} + 2 \\lambda_{} s + s^{2}\\right)}\\\\0 & \\frac{1}{\\gamma + \\lambda_{} + s} & \\frac{\\gamma + \\lambda_{}}{s \\left(\\gamma + \\lambda_{} + s\\right)}\\\\0 & 0 & \\frac{1}{s}\\end{matrix}\\right]$"
      ],
      "text/plain": [
       "Matrix([\n",
       "[1/(2*gamma + lambda_ + s), 2*gamma/(2*gamma**2 + 3*gamma*lambda_ + 3*gamma*s + lambda_**2 + 2*lambda_*s + s**2), (2*gamma**2 + 3*gamma*lambda_ + lambda_**2 + lambda_*s)/(s*(2*gamma**2 + 3*gamma*lambda_ + 3*gamma*s + lambda_**2 + 2*lambda_*s + s**2))],\n",
       "[                        0,                                                              1/(gamma + lambda_ + s),                                                                                              (gamma + lambda_)/(s*(gamma + lambda_ + s))],\n",
       "[                        0,                                                                                    0,                                                                                                                                      1/s]])"
      ]
     },
     "execution_count": 30,
     "metadata": {},
     "output_type": "execute_result"
    }
   ],
   "source": [
    "%%time\n",
    "\n",
    "f = (s*I - A).inv()\n",
    "f = simplify(f)\n",
    "f"
   ]
  },
  {
   "cell_type": "code",
   "execution_count": 31,
   "id": "69e0c5da",
   "metadata": {},
   "outputs": [
    {
     "name": "stdout",
     "output_type": "stream",
     "text": [
      "Wall time: 4.49 s\n"
     ]
    },
    {
     "data": {
      "text/latex": [
       "$\\displaystyle \\left[\\begin{matrix}e^{- t \\left(2 \\operatorname{re}{\\left(\\gamma\\right)} + \\operatorname{re}{\\left(\\lambda_{}\\right)}\\right) - i t \\left(2 \\operatorname{im}{\\left(\\gamma\\right)} + \\operatorname{im}{\\left(\\lambda_{}\\right)}\\right)} & \\left(2 e^{t \\left(\\operatorname{re}{\\left(\\gamma\\right)} + i \\operatorname{im}{\\left(\\gamma\\right)}\\right)} - 2\\right) e^{- t \\left(2 \\operatorname{re}{\\left(\\gamma\\right)} + \\operatorname{re}{\\left(\\lambda_{}\\right)} + 2 i \\operatorname{im}{\\left(\\gamma\\right)} + i \\operatorname{im}{\\left(\\lambda_{}\\right)}\\right)} & \\left(- 2 e^{t \\left(\\operatorname{re}{\\left(\\gamma\\right)} + i \\operatorname{im}{\\left(\\gamma\\right)}\\right)} + e^{t \\left(2 \\operatorname{re}{\\left(\\gamma\\right)} + \\operatorname{re}{\\left(\\lambda_{}\\right)} + 2 i \\operatorname{im}{\\left(\\gamma\\right)} + i \\operatorname{im}{\\left(\\lambda_{}\\right)}\\right)} + 1\\right) e^{- t \\left(2 \\operatorname{re}{\\left(\\gamma\\right)} + \\operatorname{re}{\\left(\\lambda_{}\\right)} + 2 i \\operatorname{im}{\\left(\\gamma\\right)} + i \\operatorname{im}{\\left(\\lambda_{}\\right)}\\right)}\\\\0 & e^{- t \\left(\\operatorname{re}{\\left(\\gamma\\right)} + \\operatorname{re}{\\left(\\lambda_{}\\right)}\\right) - i t \\left(\\operatorname{im}{\\left(\\gamma\\right)} + \\operatorname{im}{\\left(\\lambda_{}\\right)}\\right)} & 1 - e^{- t \\operatorname{re}{\\left(\\gamma\\right)} - t \\operatorname{re}{\\left(\\lambda_{}\\right)} - i t \\operatorname{im}{\\left(\\gamma\\right)} - i t \\operatorname{im}{\\left(\\lambda_{}\\right)}}\\\\0 & 0 & 1\\end{matrix}\\right]$"
      ],
      "text/plain": [
       "Matrix([\n",
       "[exp(-t*(2*re(gamma) + re(lambda_)) - I*t*(2*im(gamma) + im(lambda_))), (2*exp(t*(re(gamma) + I*im(gamma))) - 2)*exp(-t*(2*re(gamma) + re(lambda_) + 2*I*im(gamma) + I*im(lambda_))), (-2*exp(t*(re(gamma) + I*im(gamma))) + exp(t*(2*re(gamma) + re(lambda_) + 2*I*im(gamma) + I*im(lambda_))) + 1)*exp(-t*(2*re(gamma) + re(lambda_) + 2*I*im(gamma) + I*im(lambda_)))],\n",
       "[                                                                    0,                                            exp(-t*(re(gamma) + re(lambda_)) - I*t*(im(gamma) + im(lambda_))),                                                                                                            1 - exp(-t*re(gamma) - t*re(lambda_) - I*t*im(gamma) - I*t*im(lambda_))],\n",
       "[                                                                    0,                                                                                                            0,                                                                                                                                                                                  1]])"
      ]
     },
     "execution_count": 31,
     "metadata": {},
     "output_type": "execute_result"
    }
   ],
   "source": [
    "%%time\n",
    "\n",
    "F = inverse_laplace_transform(f, s, t)\n",
    "F"
   ]
  },
  {
   "cell_type": "code",
   "execution_count": 32,
   "id": "6ae24e37",
   "metadata": {},
   "outputs": [],
   "source": [
    "lb  = 0.0\n",
    "ub = 80000\n",
    "n_star = 5000+1\n",
    "x_star = np.linspace(lb, ub, n_star)[1:]"
   ]
  },
  {
   "cell_type": "code",
   "execution_count": 33,
   "id": "419719b8",
   "metadata": {},
   "outputs": [],
   "source": [
    "x_0 = np.zeros(3)\n",
    "x_0[0] = 1"
   ]
  },
  {
   "cell_type": "code",
   "execution_count": 34,
   "id": "7ad7381e",
   "metadata": {},
   "outputs": [
    {
     "name": "stdout",
     "output_type": "stream",
     "text": [
      "Wall time: 23.3 s\n"
     ]
    }
   ],
   "source": [
    "%%time \n",
    "\n",
    "lambda_val = 7.26*10**-5\n",
    "gamma_val = 2.8 * 10**-5\n",
    "\n",
    "val = []\n",
    "for t_val in x_star:\n",
    "    state_transition_matrix = np.array(F.subs([(gamma, gamma_val), (lambda_, lambda_val), (t, t_val)]))\n",
    "    MSS_reliability = np.dot(x_0, state_transition_matrix)\n",
    "    MSS_reliability = list(map(float, MSS_reliability))\n",
    "    \n",
    "    val.append(MSS_reliability)"
   ]
  },
  {
   "cell_type": "code",
   "execution_count": 35,
   "id": "f0657f91",
   "metadata": {},
   "outputs": [
    {
     "data": {
      "text/html": [
       "<div>\n",
       "<style scoped>\n",
       "    .dataframe tbody tr th:only-of-type {\n",
       "        vertical-align: middle;\n",
       "    }\n",
       "\n",
       "    .dataframe tbody tr th {\n",
       "        vertical-align: top;\n",
       "    }\n",
       "\n",
       "    .dataframe thead th {\n",
       "        text-align: right;\n",
       "    }\n",
       "</style>\n",
       "<table border=\"1\" class=\"dataframe\">\n",
       "  <thead>\n",
       "    <tr style=\"text-align: right;\">\n",
       "      <th></th>\n",
       "      <th>state_0</th>\n",
       "      <th>state_1</th>\n",
       "      <th>state_2</th>\n",
       "    </tr>\n",
       "  </thead>\n",
       "  <tbody>\n",
       "    <tr>\n",
       "      <th>0</th>\n",
       "      <td>0.997945</td>\n",
       "      <td>0.000894</td>\n",
       "      <td>0.001161</td>\n",
       "    </tr>\n",
       "    <tr>\n",
       "      <th>1</th>\n",
       "      <td>0.995893</td>\n",
       "      <td>0.001785</td>\n",
       "      <td>0.002321</td>\n",
       "    </tr>\n",
       "    <tr>\n",
       "      <th>2</th>\n",
       "      <td>0.993846</td>\n",
       "      <td>0.002673</td>\n",
       "      <td>0.003481</td>\n",
       "    </tr>\n",
       "    <tr>\n",
       "      <th>3</th>\n",
       "      <td>0.991803</td>\n",
       "      <td>0.003558</td>\n",
       "      <td>0.004639</td>\n",
       "    </tr>\n",
       "    <tr>\n",
       "      <th>4</th>\n",
       "      <td>0.989765</td>\n",
       "      <td>0.004439</td>\n",
       "      <td>0.005796</td>\n",
       "    </tr>\n",
       "  </tbody>\n",
       "</table>\n",
       "</div>"
      ],
      "text/plain": [
       "    state_0   state_1   state_2\n",
       "0  0.997945  0.000894  0.001161\n",
       "1  0.995893  0.001785  0.002321\n",
       "2  0.993846  0.002673  0.003481\n",
       "3  0.991803  0.003558  0.004639\n",
       "4  0.989765  0.004439  0.005796"
      ]
     },
     "execution_count": 35,
     "metadata": {},
     "output_type": "execute_result"
    }
   ],
   "source": [
    "exact_solution_Laplace = np.array(val)\n",
    "exact_solution_Laplace_df = pd.DataFrame(val, columns = ['state_0', 'state_1', 'state_2'])\n",
    "exact_solution_Laplace_df.to_csv(\"analytical_solution_by_laplace_method.csv\", index=False)\n",
    "exact_solution_Laplace_df.head()"
   ]
  },
  {
   "cell_type": "code",
   "execution_count": 36,
   "id": "7e2c8d47",
   "metadata": {},
   "outputs": [
    {
     "data": {
      "text/plain": [
       "Text(0, 0.5, 'Probability')"
      ]
     },
     "execution_count": 36,
     "metadata": {},
     "output_type": "execute_result"
    },
    {
     "data": {
      "image/png": "[encoded data removed]",
      "text/plain": [
       "<Figure size 576x360 with 1 Axes>"
      ]
     },
     "metadata": {},
     "output_type": "display_data"
    }
   ],
   "source": [
    "plt.figure(figsize=(8, 5))\n",
    "\n",
    "sns.lineplot(x = x_star.flatten(), y = exact_solution_Laplace[:, 0], label = 'State 0', linewidth = 5, color = 'green', \n",
    "             linestyle='dotted')\n",
    "sns.lineplot(x = x_star.flatten(), y = exact_solution_Laplace[:, 1], label = 'State 1', linewidth = 5, color = 'blue', \n",
    "             linestyle='dotted')\n",
    "sns.lineplot(x = x_star.flatten(), y = exact_solution_Laplace[:, 2], label = 'State 2', linewidth = 5, color = 'red', \n",
    "             linestyle='dotted')\n",
    "\n",
    "plt.yscale('log')\n",
    "plt.xlabel(\"Time (hours)\", fontdict=dict(weight='bold'), fontsize=16)\n",
    "plt.ylabel(\"Probability\", fontdict=dict(weight='bold'), fontsize=16)"
   ]
  },
  {
   "cell_type": "code",
   "execution_count": null,
   "id": "d8831aca",
   "metadata": {},
   "outputs": [],
   "source": []
  }
 ],
 "metadata": {
  "kernelspec": {
   "display_name": "Python 3 (ipykernel)",
   "language": "python",
   "name": "python3"
  },
  "language_info": {
   "codemirror_mode": {
    "name": "ipython",
    "version": 3
   },
   "file_extension": ".py",
   "mimetype": "text/x-python",
   "name": "python",
   "nbconvert_exporter": "python",
   "pygments_lexer": "ipython3",
   "version": "3.9.7"
  }
 },
 "nbformat": 4,
 "nbformat_minor": 5
}
