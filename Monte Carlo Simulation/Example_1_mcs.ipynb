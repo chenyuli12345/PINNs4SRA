{
 "cells": [
  {
   "cell_type": "code",
   "execution_count": 1,
   "metadata": {},
   "outputs": [],
   "source": [
    "import numpy as np\n",
    "import os\n",
    "import os.path as osp\n",
    "import matplotlib.pyplot as plt\n",
    "import time\n",
    "import pandas as pd\n",
    "from tqdm import tqdm\n",
    "import seaborn as sns\n",
    "from joblib import Parallel, delayed"
   ]
  },
  {
   "cell_type": "code",
   "execution_count": 2,
   "metadata": {},
   "outputs": [],
   "source": [
    "sns.set(font_scale=1.6)"
   ]
  },
  {
   "cell_type": "code",
   "execution_count": 3,
   "metadata": {},
   "outputs": [],
   "source": [
    "# Random seeds for reproducibility\n",
    "np.random.seed(123)\n",
    "start_time = time.time()"
   ]
  },
  {
   "cell_type": "markdown",
   "metadata": {},
   "source": [
    "#### Function to sample sojourn time and output departure time"
   ]
  },
  {
   "cell_type": "code",
   "execution_count": 4,
   "metadata": {},
   "outputs": [],
   "source": [
    "def statefunction(stateI, tI, t_max):\n",
    "    ##define transition rate prameters\n",
    "    gamma = 2.8e-5\n",
    "    lamda = 7.26e-5\n",
    "    \n",
    "    ####given state0\n",
    "    if stateI == 0:        \n",
    "        #use inverse transform sampling\n",
    "        U = np.random.uniform(0, 1, 1)\n",
    "        tO = tI - np.log(1-U)/(2*gamma+lamda)\n",
    "        \n",
    "    ####given state1\n",
    "    if stateI == 1:\n",
    "        #use inverse transform sampling\n",
    "        U = np.random.uniform(0, 1, 1)\n",
    "        tO = tI-np.log(1-U)/(gamma+lamda)\n",
    "        \n",
    "    ####given state2\n",
    "    if stateI == 2:\n",
    "        #print('stateI == 2, END')\n",
    "        tO = t_max\n",
    "        \n",
    "    return float(tO) #output departure time"
   ]
  },
  {
   "cell_type": "markdown",
   "metadata": {},
   "source": [
    "#### Function to define the state transition "
   ]
  },
  {
   "cell_type": "code",
   "execution_count": 5,
   "metadata": {},
   "outputs": [],
   "source": [
    "def tranfunction(stateI, tO):\n",
    "    stateI = int(stateI)\n",
    "    tO = float(tO)\n",
    "    \n",
    "    #define transition rate prameters\n",
    "    gamma = 2.8e-5\n",
    "    lamda = 7.26e-5\n",
    "    \n",
    "    #specify transition rates across state\n",
    "    phi01 = 2*gamma\n",
    "    phi02 = lamda\n",
    "    phi12 = gamma+lamda\n",
    "\n",
    "    #following departure\n",
    "    #calculate transition probability\n",
    "    ####given state0\n",
    "    if stateI == 0:\n",
    "        #probability\n",
    "        tranAll = phi01+phi02\n",
    "        tranP = [phi01/tranAll, phi02/tranAll]\n",
    "        tranS = [1, 2]\n",
    "        tranResult = np.matrix([tranS, tranP]).transpose()\n",
    "       \n",
    "    ####given state1\n",
    "    if stateI == 1:\n",
    "        #probability\n",
    "        tranAll = phi12\n",
    "        tranP = 1\n",
    "        tranS = 2\n",
    "        tranResult = np.matrix([tranS, tranP])\n",
    "        \n",
    "    ####given state2\n",
    "    if stateI == 2:\n",
    "        print('NULL Transition out from State-2')\n",
    "    \n",
    "    ####generate a random number from uniform [0,1]\n",
    "    u = np.random.uniform(0, 1, 1)\n",
    "    #sum the transition probability\n",
    "    sumTransP = np.cumsum(tranResult[:,1])\n",
    "    #determine the index of state out\n",
    "    idx = np.sum((u>=sumTransP) + 0) + 1 #+0 convert boolean to numeric\n",
    "    \n",
    "    #result\n",
    "    stateOut = tranResult[idx-1, 0]\n",
    "    final_ret = [stateOut]\n",
    "    \n",
    "    return final_ret"
   ]
  },
  {
   "cell_type": "markdown",
   "metadata": {},
   "source": [
    "#### Run Monte Carlo"
   ]
  },
  {
   "cell_type": "code",
   "execution_count": 6,
   "metadata": {},
   "outputs": [
    {
     "name": "stderr",
     "output_type": "stream",
     "text": [
      "100%|██████████████████████████████████████████████████████████████████████| 1000000/1000000 [01:49<00:00, 9093.32it/s]\n"
     ]
    }
   ],
   "source": [
    "#number of replications\n",
    "N_max = int(1e6)\n",
    "#time horizon\n",
    "t_max = 8e4 + 1\n",
    "\n",
    "## Initialize storage\n",
    "all_list = np.empty((0,2), int)\n",
    "\n",
    "## Initialize no. of replication\n",
    "\n",
    "sample_trace = []\n",
    "for n_rep in tqdm(range(1, N_max+1)):\n",
    "    \n",
    "    #print(n_rep/N_max)\n",
    "    \n",
    "    #initialize time\n",
    "    t_in_A = [0.]\n",
    "    #initialize state\n",
    "    state_in_A = [0]\n",
    "  \n",
    "    while (t_in_A[-1] < t_max):\n",
    "        t_in = t_in_A[-1]\n",
    "        state_in = state_in_A[-1]\n",
    "        t_out = statefunction(state_in, t_in, t_max)\n",
    "        \n",
    "        if state_in==2:\n",
    "            #print('state_in==2')\n",
    "            t_in_A = np.append(t_in_A, t_max)\n",
    "            state_in_A = np.append(state_in_A, 2)\n",
    "            \n",
    "        else:\n",
    "            state_out = tranfunction(state_in, t_out)\n",
    "            #update\n",
    "            t_in_A = np.append(t_in_A, t_out)\n",
    "            state_in_A = np.append(state_in_A, state_out[0])\n",
    "    \n",
    "        sample_trace.append([n_rep, state_in, t_in, t_out])"
   ]
  },
  {
   "cell_type": "markdown",
   "metadata": {},
   "source": [
    "#### Data analytics to derive state probability"
   ]
  },
  {
   "cell_type": "code",
   "execution_count": 7,
   "metadata": {},
   "outputs": [],
   "source": [
    "df = pd.DataFrame(sample_trace, columns=['sample_id', 'state', 't_in', 't_out'])"
   ]
  },
  {
   "cell_type": "code",
   "execution_count": 8,
   "metadata": {},
   "outputs": [
    {
     "data": {
      "text/html": [
       "<div>\n",
       "<style scoped>\n",
       "    .dataframe tbody tr th:only-of-type {\n",
       "        vertical-align: middle;\n",
       "    }\n",
       "\n",
       "    .dataframe tbody tr th {\n",
       "        vertical-align: top;\n",
       "    }\n",
       "\n",
       "    .dataframe thead th {\n",
       "        text-align: right;\n",
       "    }\n",
       "</style>\n",
       "<table border=\"1\" class=\"dataframe\">\n",
       "  <thead>\n",
       "    <tr style=\"text-align: right;\">\n",
       "      <th></th>\n",
       "      <th>sample_id</th>\n",
       "      <th>state</th>\n",
       "      <th>t_in</th>\n",
       "      <th>t_out</th>\n",
       "    </tr>\n",
       "  </thead>\n",
       "  <tbody>\n",
       "    <tr>\n",
       "      <th>0</th>\n",
       "      <td>1</td>\n",
       "      <td>0.0</td>\n",
       "      <td>0.000000</td>\n",
       "      <td>9271.167523</td>\n",
       "    </tr>\n",
       "    <tr>\n",
       "      <th>1</th>\n",
       "      <td>1</td>\n",
       "      <td>1.0</td>\n",
       "      <td>9271.167523</td>\n",
       "      <td>11828.663349</td>\n",
       "    </tr>\n",
       "    <tr>\n",
       "      <th>2</th>\n",
       "      <td>1</td>\n",
       "      <td>2.0</td>\n",
       "      <td>11828.663349</td>\n",
       "      <td>80001.000000</td>\n",
       "    </tr>\n",
       "    <tr>\n",
       "      <th>3</th>\n",
       "      <td>2</td>\n",
       "      <td>0.0</td>\n",
       "      <td>0.000000</td>\n",
       "      <td>9883.910851</td>\n",
       "    </tr>\n",
       "    <tr>\n",
       "      <th>4</th>\n",
       "      <td>2</td>\n",
       "      <td>1.0</td>\n",
       "      <td>9883.910851</td>\n",
       "      <td>49158.086486</td>\n",
       "    </tr>\n",
       "  </tbody>\n",
       "</table>\n",
       "</div>"
      ],
      "text/plain": [
       "   sample_id  state          t_in         t_out\n",
       "0          1    0.0      0.000000   9271.167523\n",
       "1          1    1.0   9271.167523  11828.663349\n",
       "2          1    2.0  11828.663349  80001.000000\n",
       "3          2    0.0      0.000000   9883.910851\n",
       "4          2    1.0   9883.910851  49158.086486"
      ]
     },
     "execution_count": 8,
     "metadata": {},
     "output_type": "execute_result"
    }
   ],
   "source": [
    "df.head()"
   ]
  },
  {
   "cell_type": "code",
   "execution_count": 9,
   "metadata": {},
   "outputs": [
    {
     "data": {
      "text/plain": [
       "array([1.6000e+01, 3.2000e+01, 4.8000e+01, ..., 7.9968e+04, 7.9984e+04,\n",
       "       8.0000e+04])"
      ]
     },
     "execution_count": 9,
     "metadata": {},
     "output_type": "execute_result"
    }
   ],
   "source": [
    "time_idx = np.arange(16, t_max+1, 16)\n",
    "time_idx"
   ]
  },
  {
   "cell_type": "code",
   "execution_count": null,
   "metadata": {},
   "outputs": [
    {
     "name": "stderr",
     "output_type": "stream",
     "text": [
      " 60%|██████████████████████████████████████████████▉                               | 3008/5000 [02:26<01:31, 21.69it/s]"
     ]
    }
   ],
   "source": [
    "state_prob = []\n",
    "\n",
    "for i in tqdm(range(len(time_idx))):\n",
    "    t = time_idx[i]\n",
    "    res = df[(df['t_in'] <= t) & (df['t_out'] > t)].groupby('state')['sample_id'].count().values\n",
    "    \n",
    "    state_prob.append([res[0]/N_max, res[1]/N_max, res[2]/N_max])"
   ]
  },
  {
   "cell_type": "code",
   "execution_count": null,
   "metadata": {},
   "outputs": [],
   "source": [
    "state_prob = np.array(state_prob)\n",
    "\n",
    "df_res = pd.DataFrame()\n",
    "df_res['time'] = time_idx\n",
    "df_res['state_0'] = state_prob[:, 0]\n",
    "df_res['state_1'] = state_prob[:, 1]\n",
    "df_res['state_2'] = state_prob[:, 2]"
   ]
  },
  {
   "cell_type": "code",
   "execution_count": null,
   "metadata": {},
   "outputs": [],
   "source": [
    "df_res.head()"
   ]
  },
  {
   "cell_type": "code",
   "execution_count": null,
   "metadata": {},
   "outputs": [],
   "source": [
    "df_res.to_csv(\"MCS_homo_80000.csv\", index = False)"
   ]
  },
  {
   "cell_type": "code",
   "execution_count": null,
   "metadata": {},
   "outputs": [],
   "source": [
    "#####################################################################\n",
    "## used time\n",
    "#####################################################################\n",
    "end_time = time.time()\n",
    "used_time = end_time - start_time\n",
    "print(\"--- %s seconds ---\" % (used_time))"
   ]
  },
  {
   "cell_type": "code",
   "execution_count": null,
   "metadata": {},
   "outputs": [],
   "source": [
    "######################################################\n",
    "## Plotting\n",
    "######################################################\n",
    "plt.figure(figsize=(10, 6))\n",
    "plt.plot(time_idx, state_prob[:,0], 'r--', linewidth = 4, label = \"State 0\")\n",
    "plt.plot(time_idx, state_prob[:,1], 'b--', linewidth = 4, label = \"State 1\")\n",
    "plt.plot(time_idx, state_prob[:,2], 'c--', linewidth = 4, label = \"State 2\", markersize=20)\n",
    "plt.plot(0, 1, 'r*', linewidth = 4, label = \"Initial Condiiton\", markersize=20)\n",
    "plt.legend(frameon=False,fontsize=16)\n",
    "plt.xlabel('$t$', fontsize=18)\n",
    "plt.ylabel('$p(t)$', fontsize=18)\n",
    "# plt.xlim([-1,30])\n",
    "plt.ylim([0,1.1])\n",
    "plt.xticks(fontsize=16)\n",
    "plt.yticks(fontsize=16)\n",
    "plt.show()"
   ]
  },
  {
   "cell_type": "code",
   "execution_count": null,
   "metadata": {},
   "outputs": [],
   "source": [
    "######################################################\n",
    "## subplot\n",
    "######################################################\n",
    "ax = plt.figure(1,figsize=(12, 12))\n",
    "plt.xticks(fontsize=16)\n",
    "plt.yticks(fontsize=16)\n",
    "\n",
    "plt.subplot(3, 1, 1)\n",
    "plt.plot(time_idx, state_prob[:,0:1], 'r--', linewidth = 4, label = \"State 0\")\n",
    "plt.legend(frameon=False)\n",
    "plt.xlabel('$t$')\n",
    "plt.ylabel('$P0(t)$')\n",
    "\n",
    "plt.subplot(3, 1, 2)\n",
    "plt.plot(time_idx, state_prob[:,1:2], 'b--', linewidth = 4, label = \"State 1\")\n",
    "plt.legend(frameon=False)\n",
    "plt.xlabel('$t$')\n",
    "plt.ylabel('P1(t)')\n",
    "\n",
    "plt.subplot(3, 1, 3)\n",
    "plt.plot(time_idx, state_prob[:,2:3], 'c--', linewidth = 4, label = \"State 2\")\n",
    "plt.legend(frameon=False)\n",
    "plt.xlabel('$t$')\n",
    "plt.ylabel('$P2(t)$')\n",
    "\n",
    "plt.show()"
   ]
  },
  {
   "cell_type": "code",
   "execution_count": null,
   "metadata": {},
   "outputs": [],
   "source": []
  }
 ],
 "metadata": {
  "kernelspec": {
   "display_name": "Python 3 (ipykernel)",
   "language": "python",
   "name": "python3"
  },
  "language_info": {
   "codemirror_mode": {
    "name": "ipython",
    "version": 3
   },
   "file_extension": ".py",
   "mimetype": "text/x-python",
   "name": "python",
   "nbconvert_exporter": "python",
   "pygments_lexer": "ipython3",
   "version": "3.9.7"
  }
 },
 "nbformat": 4,
 "nbformat_minor": 4
}
