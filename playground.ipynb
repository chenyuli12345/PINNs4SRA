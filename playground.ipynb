{
 "cells": [
  {
   "cell_type": "code",
   "execution_count": 1,
   "id": "08d94284",
   "metadata": {},
   "outputs": [],
   "source": [
    "import tensorflow as tf\n",
    "import matplotlib.pyplot as plt\n",
    "import numpy as np"
   ]
  },
  {
   "cell_type": "code",
   "execution_count": 2,
   "id": "6d03b346",
   "metadata": {},
   "outputs": [],
   "source": [
    "######################################################################################\n",
    "# Number of training data\n",
    "N_u = 1                        # Boundary condition data on u(x)  \n",
    "N_r = 5000                     # Number of collocation points for minimizing the PDE residual\n",
    "lb  = np.array([0.0])         # Left boundary of the domain\n",
    "ub  = np.array([60000.0])          # Right boundary of the domain\n",
    "\n",
    "# Generate training data\n",
    "x_u = np.array([[0]])  ##TZ\n",
    "y_u = np.array([[1,0,0]])   ##TZ                    # Solution at boundary points (dimension N_u x 1)\n",
    "x_r = np.linspace(lb, ub, N_r)     # Location of collocation points (dimension N_r x 1)"
   ]
  },
  {
   "cell_type": "code",
   "execution_count": 3,
   "id": "bfd23b75",
   "metadata": {},
   "outputs": [],
   "source": [
    "def init_model(number_hidden_layers = 2, num_neurons_per_layer = 50):\n",
    "    model = tf.keras.Sequential()\n",
    "    model.add(tf.keras.Input(1))\n",
    "    \n",
    "    model.add(tf.keras.layers.Dense(num_neurons_per_layer, activation=tf.keras.activations.get('tanh'), \n",
    "                                    kernel_initializer='glorot_normal'))\n",
    "    model.add(tf.keras.layers.Dense(num_neurons_per_layer, activation=tf.keras.activations.get('tanh'), \n",
    "                                    kernel_initializer='glorot_normal'))\n",
    "    \n",
    "    model.add(tf.keras.layers.Dense(3, activation=tf.keras.activations.get('softmax')))\n",
    "    \n",
    "    return model"
   ]
  },
  {
   "cell_type": "code",
   "execution_count": 4,
   "id": "9edefabe",
   "metadata": {},
   "outputs": [],
   "source": [
    "model = init_model()"
   ]
  },
  {
   "cell_type": "code",
   "execution_count": 5,
   "id": "1c3dd30e",
   "metadata": {},
   "outputs": [],
   "source": [
    "Xr_tf = tf.convert_to_tensor(x_r, dtype=tf.float32)\n",
    "Xu_tf = tf.convert_to_tensor(x_u, dtype=tf.float32)"
   ]
  },
  {
   "cell_type": "code",
   "execution_count": 10,
   "id": "4719ff84",
   "metadata": {},
   "outputs": [],
   "source": [
    "with tf.GradientTape(persistent=True) as g:\n",
    "    g.watch(Xr_tf)\n",
    "\n",
    "    u = model(Xr_tf)\n",
    "\n",
    "    u1 = u[:,0:1]\n",
    "    u2 = u[:,1:2]\n",
    "    u3 = u[:,2:3]\n",
    "\n",
    "#derivatives of state probability\n",
    "u_x_1 = g.gradient(u1, Xr_tf)\n",
    "u_x_2 = g.gradient(u2, Xr_tf)\n",
    "u_x_3 = g.gradient(u3, Xr_tf)"
   ]
  },
  {
   "cell_type": "code",
   "execution_count": 11,
   "id": "64824152",
   "metadata": {},
   "outputs": [
    {
     "data": {
      "text/plain": [
       "<tf.Tensor: shape=(5000, 1), dtype=float32, numpy=\n",
       "array([[0.33333334],\n",
       "       [0.22911815],\n",
       "       [0.26446056],\n",
       "       ...,\n",
       "       [0.27418694],\n",
       "       [0.27418694],\n",
       "       [0.27418694]], dtype=float32)>"
      ]
     },
     "execution_count": 11,
     "metadata": {},
     "output_type": "execute_result"
    }
   ],
   "source": [
    "u2"
   ]
  },
  {
   "cell_type": "code",
   "execution_count": 12,
   "id": "5374b9b1",
   "metadata": {},
   "outputs": [
    {
     "data": {
      "text/plain": [
       "<tf.Tensor: shape=(5000, 1), dtype=float32, numpy=\n",
       "array([[ 0.12887038],\n",
       "       [-0.00588698],\n",
       "       [-0.00103088],\n",
       "       ...,\n",
       "       [ 0.        ],\n",
       "       [ 0.        ],\n",
       "       [ 0.        ]], dtype=float32)>"
      ]
     },
     "execution_count": 12,
     "metadata": {},
     "output_type": "execute_result"
    }
   ],
   "source": [
    "u_x_1"
   ]
  },
  {
   "cell_type": "code",
   "execution_count": 13,
   "id": "28e02e3b",
   "metadata": {},
   "outputs": [
    {
     "data": {
      "text/plain": [
       "<tf.Tensor: shape=(5000, 1), dtype=float32, numpy=\n",
       "array([[ 0.12887038],\n",
       "       [-0.00588698],\n",
       "       [-0.00103088],\n",
       "       ...,\n",
       "       [ 0.        ],\n",
       "       [ 0.        ],\n",
       "       [ 0.        ]], dtype=float32)>"
      ]
     },
     "execution_count": 13,
     "metadata": {},
     "output_type": "execute_result"
    }
   ],
   "source": [
    "g.gradient(u1, Xr_tf)"
   ]
  },
  {
   "cell_type": "code",
   "execution_count": null,
   "id": "688fb682",
   "metadata": {},
   "outputs": [],
   "source": []
  },
  {
   "cell_type": "code",
   "execution_count": 1,
   "id": "90338f88",
   "metadata": {},
   "outputs": [
    {
     "name": "stdout",
     "output_type": "stream",
     "text": [
      "WARNING:tensorflow:From C:\\Users\\x3zhang\\Anaconda3\\lib\\site-packages\\tensorflow\\python\\compat\\v2_compat.py:101: disable_resource_variables (from tensorflow.python.ops.variable_scope) is deprecated and will be removed in a future version.\n",
      "Instructions for updating:\n",
      "non-resource variables are not supported in the long term\n"
     ]
    }
   ],
   "source": [
    "import tensorflow.compat.v1 as tf\n",
    "import numpy as np\n",
    "\n",
    "tf.disable_v2_behavior()"
   ]
  },
  {
   "cell_type": "code",
   "execution_count": 2,
   "id": "f01c134b",
   "metadata": {},
   "outputs": [],
   "source": [
    "######################################################################################\n",
    "# Number of training data\n",
    "N_u = 1                        # Boundary condition data on u(x)  \n",
    "N_r = 5000                     # Number of collocation points for minimizing the PDE residual\n",
    "lb  = np.array([0.0])         # Left boundary of the domain\n",
    "ub  = np.array([60000.0])          # Right boundary of the domain\n",
    "\n",
    "# Generate training data\n",
    "x_u = np.array([[0]])  ##TZ\n",
    "y_u = np.array([[1,0,0]])   ##TZ                    # Solution at boundary points (dimension N_u x 1)\n",
    "x_r = np.linspace(lb, ub, N_r)     # Location of collocation points (dimension N_r x 1)"
   ]
  },
  {
   "cell_type": "code",
   "execution_count": 7,
   "id": "0a460197",
   "metadata": {},
   "outputs": [],
   "source": [
    "Xr_tf = tf.convert_to_tensor(x_r, dtype=tf.float32)\n",
    "Xu_tf = tf.convert_to_tensor(x_u, dtype=tf.float32)"
   ]
  },
  {
   "cell_type": "code",
   "execution_count": 8,
   "id": "16139be9",
   "metadata": {},
   "outputs": [],
   "source": [
    "def init_model(number_hidden_layers = 2, num_neurons_per_layer = 50):\n",
    "    model = tf.keras.Sequential()\n",
    "    model.add(tf.keras.Input(1))\n",
    "    \n",
    "    model.add(tf.keras.layers.Dense(num_neurons_per_layer, activation=tf.keras.activations.get('tanh'), \n",
    "                                    kernel_initializer='glorot_normal'))\n",
    "    model.add(tf.keras.layers.Dense(num_neurons_per_layer, activation=tf.keras.activations.get('tanh'), \n",
    "                                    kernel_initializer='glorot_normal'))\n",
    "    \n",
    "    model.add(tf.keras.layers.Dense(3, activation=tf.keras.activations.get('softmax')))\n",
    "    \n",
    "    return model"
   ]
  },
  {
   "cell_type": "code",
   "execution_count": 9,
   "id": "ae3f504d",
   "metadata": {},
   "outputs": [],
   "source": [
    "model = init_model()"
   ]
  },
  {
   "cell_type": "code",
   "execution_count": 21,
   "id": "48ec5fe7",
   "metadata": {},
   "outputs": [],
   "source": [
    "u = model(Xr_tf)\n",
    "u1 = u[:,0:1]\n",
    "u2 = u[:,1:2]\n",
    "u3 = u[:,2:3]\n",
    "\n",
    "#derivatives of state probability\n",
    "u_x_1 = tf.gradients(u1, Xr_tf)[0]\n",
    "u_x_2 = tf.gradients(u2, Xr_tf)[0]\n",
    "u_x_3 = tf.gradients(u3, Xr_tf)[0]"
   ]
  },
  {
   "cell_type": "code",
   "execution_count": 27,
   "id": "bb95add7",
   "metadata": {},
   "outputs": [
    {
     "data": {
      "text/plain": [
       "<tf.Tensor 'strided_slice_12:0' shape=(5000, 1) dtype=float32>"
      ]
     },
     "execution_count": 27,
     "metadata": {},
     "output_type": "execute_result"
    }
   ],
   "source": [
    "u1"
   ]
  },
  {
   "cell_type": "code",
   "execution_count": 23,
   "id": "b52d2545",
   "metadata": {},
   "outputs": [
    {
     "data": {
      "text/plain": [
       "<tf.Tensor 'strided_slice_13:0' shape=(5000, 1) dtype=float32>"
      ]
     },
     "execution_count": 23,
     "metadata": {},
     "output_type": "execute_result"
    }
   ],
   "source": [
    "u2"
   ]
  },
  {
   "cell_type": "code",
   "execution_count": 24,
   "id": "26b71e4e",
   "metadata": {},
   "outputs": [
    {
     "data": {
      "text/plain": [
       "<tf.Tensor 'strided_slice_14:0' shape=(5000, 1) dtype=float32>"
      ]
     },
     "execution_count": 24,
     "metadata": {},
     "output_type": "execute_result"
    }
   ],
   "source": [
    "u3"
   ]
  },
  {
   "cell_type": "code",
   "execution_count": 30,
   "id": "ed97aaa6",
   "metadata": {},
   "outputs": [
    {
     "data": {
      "text/plain": [
       "<tf.Tensor 'gradients_7/sequential_1_3/dense_3/MatMul_grad/MatMul:0' shape=(5000, 1) dtype=float32>"
      ]
     },
     "execution_count": 30,
     "metadata": {},
     "output_type": "execute_result"
    }
   ],
   "source": [
    "u_x_1"
   ]
  },
  {
   "cell_type": "code",
   "execution_count": 31,
   "id": "93391cbe",
   "metadata": {},
   "outputs": [
    {
     "data": {
      "text/plain": [
       "<tf.Tensor 'gradients_8/sequential_1_3/dense_3/MatMul_grad/MatMul:0' shape=(5000, 1) dtype=float32>"
      ]
     },
     "execution_count": 31,
     "metadata": {},
     "output_type": "execute_result"
    }
   ],
   "source": [
    "u_x_2"
   ]
  },
  {
   "cell_type": "code",
   "execution_count": null,
   "id": "b11ebaf2",
   "metadata": {},
   "outputs": [],
   "source": []
  }
 ],
 "metadata": {
  "kernelspec": {
   "display_name": "Python 3 (ipykernel)",
   "language": "python",
   "name": "python3"
  },
  "language_info": {
   "codemirror_mode": {
    "name": "ipython",
    "version": 3
   },
   "file_extension": ".py",
   "mimetype": "text/x-python",
   "name": "python",
   "nbconvert_exporter": "python",
   "pygments_lexer": "ipython3",
   "version": "3.8.8"
  }
 },
 "nbformat": 4,
 "nbformat_minor": 5
}
