{
 "cells": [
  {
   "cell_type": "code",
   "execution_count": 1,
   "id": "01849dcf",
   "metadata": {},
   "outputs": [],
   "source": [
    "import tensorflow as tf\n",
    "import tensorflow_probability as tfp\n",
    "\n",
    "ndims = 60\n",
    "minimum = tf.ones([ndims], dtype=\"float64\")\n",
    "scales = tf.range(ndims, dtype=\"float64\") + 1.0\n",
    "\n",
    "\n",
    "def quadratic(x):\n",
    "    value = tf.reduce_sum(scales * (x - minimum) ** 2)\n",
    "    return value\n",
    "\n",
    "\n",
    "start = tf.range(ndims, 0, -1, dtype=\"float64\")\n",
    "\n",
    "optim_results = tfp.optimizer.lbfgs_minimize(\n",
    "    lambda x: tfp.math.value_and_gradient(quadratic, x),\n",
    "    initial_position=start,\n",
    "    num_correction_pairs=10,\n",
    "    tolerance=1e-8,\n",
    ")"
   ]
  },
  {
   "cell_type": "code",
   "execution_count": null,
   "id": "954a7c90",
   "metadata": {},
   "outputs": [],
   "source": []
  }
 ],
 "metadata": {
  "kernelspec": {
   "display_name": "Python 3 (ipykernel)",
   "language": "python",
   "name": "python3"
  },
  "language_info": {
   "codemirror_mode": {
    "name": "ipython",
    "version": 3
   },
   "file_extension": ".py",
   "mimetype": "text/x-python",
   "name": "python",
   "nbconvert_exporter": "python",
   "pygments_lexer": "ipython3",
   "version": "3.8.8"
  }
 },
 "nbformat": 4,
 "nbformat_minor": 5
}
